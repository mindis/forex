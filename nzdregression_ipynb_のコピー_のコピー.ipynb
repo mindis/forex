{
  "nbformat": 4,
  "nbformat_minor": 0,
  "metadata": {
    "colab": {
      "name": "nzdregression.ipynb のコピー のコピー",
      "version": "0.3.2",
      "provenance": [],
      "collapsed_sections": []
    },
    "kernelspec": {
      "name": "python3",
      "display_name": "Python 3"
    },
    "accelerator": "GPU"
  },
  "cells": [
    {
      "cell_type": "code",
      "metadata": {
        "id": "cN8NbWQbAStv",
        "colab_type": "code",
        "colab": {}
      },
      "source": [
        "# !pip install -q tensorflow-gpu==2.0.0-alpha0\n",
        "import tensorflow as tf\n",
        "import pandas as pd\n",
        "import numpy as np\n",
        "from sklearn.model_selection import train_test_split\n",
        "from sklearn import preprocessing\n",
        "import sklearn\n",
        "from tensorflow.keras import layers\n",
        "from tensorflow.keras.layers import Conv1D"
      ],
      "execution_count": 0,
      "outputs": []
    },
    {
      "cell_type": "code",
      "metadata": {
        "id": "PChvJo8-0bVz",
        "colab_type": "code",
        "colab": {}
      },
      "source": [
        "f = \"audpred2.csv\"\n",
        "\n",
        "df = pd.read_csv(f)\n",
        "\n",
        "df = pd.read_csv(f)"
      ],
      "execution_count": 0,
      "outputs": []
    },
    {
      "cell_type": "code",
      "metadata": {
        "id": "mwtKVYcrDPXu",
        "colab_type": "code",
        "colab": {
          "base_uri": "https://localhost:8080/",
          "height": 34
        },
        "outputId": "1d05cb5d-fc59-4653-e1fd-5be7416424c2"
      },
      "source": [
        "file_name = \"wma3\"\n",
        "# x = df[[\"Close\",\"wma\",\"ema\",\"sma\"]]\n",
        "x = df[[file_name]]\n",
        "y = df[[file_name]]\n",
        "\n",
        "fit = preprocessing.MinMaxScaler().fit(y)\n",
        "x = preprocessing.MinMaxScaler().fit_transform(x)\n",
        "y = fit.transform(y)\n",
        "\n",
        "num_nits = 24\n",
        "s = 1\n",
        "gen1 = tf.keras.preprocessing.sequence.TimeseriesGenerator(x,x,num_nits,stride=1, batch_size=3000)\n",
        "x = []\n",
        "y = []\n",
        "for i in range(len(gen1)):\n",
        "  xx,yy = gen1[i]\n",
        "  xx,yy = xx.tolist(),yy.tolist()\n",
        "  x.extend(xx)\n",
        "  y.extend(yy)\n",
        "\n",
        "x = np.asanyarray(x)\n",
        "y = np.asanyarray(y).reshape((-1,s))\n",
        "\n",
        "train_x,test_x,train_y,test_y = train_test_split(x,y,test_size=0.3,  shuffle =True)\n",
        "y.shape"
      ],
      "execution_count": 7,
      "outputs": [
        {
          "output_type": "execute_result",
          "data": {
            "text/plain": [
              "(87494, 1)"
            ]
          },
          "metadata": {
            "tags": []
          },
          "execution_count": 7
        }
      ]
    },
    {
      "cell_type": "code",
      "metadata": {
        "id": "x4HsQtRLSCsd",
        "colab_type": "code",
        "colab": {
          "base_uri": "https://localhost:8080/",
          "height": 88
        },
        "outputId": "821466c4-dd81-42a0-8a47-8596c408692f"
      },
      "source": [
        "def model():\n",
        "    def block(inputs,type=1):\n",
        "        cnn1 = layers.Conv1D(4,2,padding=\"causal\",activation=\"relu\")(inputs)\n",
        "        cnn2 = layers.Conv1D(8,2,padding=\"causal\",activation=\"relu\")(inputs)\n",
        "        cnn3 = layers.Conv1D(16,2,padding=\"causal\",activation=\"relu\")(inputs)\n",
        "        cnn4 = layers.Conv1D(32,2,padding=\"causal\",activation=\"relu\")(inputs)\n",
        "        cnn5 = layers.Conv1D(64,2,padding=\"causal\",activation=\"relu\")(inputs)\n",
        "\n",
        "        concat =  layers.Concatenate()([cnn1,cnn2,cnn3,cnn4,cnn5])\n",
        "\n",
        "        if type  == 1:\n",
        "            concat = layers.ReLU()(concat)\n",
        "        return concat\n",
        "\n",
        "    inputs = layers.Input((num_nits,1))\n",
        "\n",
        "    block1 = block(inputs)\n",
        "    block1 = block(inputs,2)\n",
        "\n",
        "    block2 = block(block1)\n",
        "    block2 = block(block1,2)\n",
        "    block3 = block(block1)\n",
        "    block3 = block(block1,2)\n",
        "\n",
        "    add = layers.Add()([block1,block2,block3])\n",
        "\n",
        "    cnn = layers.Conv1D(128,2,padding=\"causal\",activation=\"relu\")(add)\n",
        "\n",
        "    flatten = layers.Flatten()(cnn)\n",
        "    outputs = layers.Dense(1)(flatten)\n",
        "\n",
        "    model = tf.keras.Model(inputs,outputs)\n",
        "    tf.keras.utils.plot_model(model)\n",
        "\n",
        "    return model\n",
        "  \n",
        "model = model()"
      ],
      "execution_count": 8,
      "outputs": [
        {
          "output_type": "stream",
          "text": [
            "WARNING:tensorflow:From /usr/local/lib/python3.6/dist-packages/tensorflow/python/ops/resource_variable_ops.py:435: colocate_with (from tensorflow.python.framework.ops) is deprecated and will be removed in a future version.\n",
            "Instructions for updating:\n",
            "Colocations handled automatically by placer.\n"
          ],
          "name": "stdout"
        }
      ]
    },
    {
      "cell_type": "code",
      "metadata": {
        "id": "c6vUoFlNKDoI",
        "colab_type": "code",
        "colab": {}
      },
      "source": [
        "# model = tf.keras.models.load_model(\"close2.hdf5\")"
      ],
      "execution_count": 0,
      "outputs": []
    },
    {
      "cell_type": "code",
      "metadata": {
        "id": "PJPu52Wn4CZE",
        "colab_type": "code",
        "colab": {}
      },
      "source": [
        "batch_size = 10000"
      ],
      "execution_count": 0,
      "outputs": []
    },
    {
      "cell_type": "code",
      "metadata": {
        "colab_type": "code",
        "id": "ToVvnrjhTxUD",
        "colab": {
          "base_uri": "https://localhost:8080/",
          "height": 88
        },
        "outputId": "b0931aaf-a952-40d5-91e9-6fd5d9a00425"
      },
      "source": [
        "model.compile(tf.keras.optimizers.Adam(0.001),\"mse\",[\"mae\"])"
      ],
      "execution_count": 11,
      "outputs": [
        {
          "output_type": "stream",
          "text": [
            "WARNING:tensorflow:From /usr/local/lib/python3.6/dist-packages/tensorflow/python/keras/utils/losses_utils.py:170: to_float (from tensorflow.python.ops.math_ops) is deprecated and will be removed in a future version.\n",
            "Instructions for updating:\n",
            "Use tf.cast instead.\n"
          ],
          "name": "stdout"
        }
      ]
    },
    {
      "cell_type": "code",
      "metadata": {
        "colab_type": "code",
        "id": "lDRKvNHATxUJ",
        "colab": {
          "base_uri": "https://localhost:8080/",
          "height": 972
        },
        "outputId": "caf151f6-559e-44bd-bee4-ccb66a55244f"
      },
      "source": [
        "model.fit(train_x,train_y,batch_size,4000, validation_data=[test_x,test_y])"
      ],
      "execution_count": 0,
      "outputs": [
        {
          "output_type": "stream",
          "text": [
            "61245/61245 [==============================] - 1s 20us/sample - loss: 2.5955e-06 - mean_absolute_error: 0.0013 - val_loss: 1.3928e-06 - val_mean_absolute_error: 8.4294e-04\n",
            "Epoch 1445/4000\n",
            "61245/61245 [==============================] - 1s 20us/sample - loss: 1.2781e-06 - mean_absolute_error: 7.6949e-04 - val_loss: 1.1775e-06 - val_mean_absolute_error: 7.2796e-04\n",
            "Epoch 1446/4000\n",
            "61245/61245 [==============================] - 1s 20us/sample - loss: 1.2486e-06 - mean_absolute_error: 7.6448e-04 - val_loss: 2.1864e-06 - val_mean_absolute_error: 0.0012\n",
            "Epoch 1447/4000\n",
            "61245/61245 [==============================] - 1s 20us/sample - loss: 1.0330e-05 - mean_absolute_error: 0.0027 - val_loss: 5.9754e-05 - val_mean_absolute_error: 0.0075\n",
            "Epoch 1448/4000\n",
            "61245/61245 [==============================] - 1s 20us/sample - loss: 5.7580e-05 - mean_absolute_error: 0.0069 - val_loss: 1.7980e-05 - val_mean_absolute_error: 0.0038\n",
            "Epoch 1449/4000\n",
            "61245/61245 [==============================] - 1s 20us/sample - loss: 1.7445e-05 - mean_absolute_error: 0.0035 - val_loss: 1.7181e-05 - val_mean_absolute_error: 0.0038\n",
            "Epoch 1450/4000\n",
            "61245/61245 [==============================] - 1s 20us/sample - loss: 8.6862e-06 - mean_absolute_error: 0.0024 - val_loss: 8.5547e-06 - val_mean_absolute_error: 0.0026\n",
            "Epoch 1451/4000\n",
            "61245/61245 [==============================] - 1s 20us/sample - loss: 4.4428e-06 - mean_absolute_error: 0.0017 - val_loss: 7.5557e-06 - val_mean_absolute_error: 0.0025\n",
            "Epoch 1452/4000\n",
            "61245/61245 [==============================] - 1s 20us/sample - loss: 4.6345e-06 - mean_absolute_error: 0.0017 - val_loss: 2.2761e-06 - val_mean_absolute_error: 0.0011\n",
            "Epoch 1453/4000\n",
            "61245/61245 [==============================] - 1s 20us/sample - loss: 3.9074e-06 - mean_absolute_error: 0.0017 - val_loss: 3.7037e-06 - val_mean_absolute_error: 0.0016\n",
            "Epoch 1454/4000\n",
            "61245/61245 [==============================] - 1s 20us/sample - loss: 3.0626e-06 - mean_absolute_error: 0.0014 - val_loss: 1.4819e-06 - val_mean_absolute_error: 8.5472e-04\n",
            "Epoch 1455/4000\n",
            "61245/61245 [==============================] - 1s 20us/sample - loss: 1.4576e-06 - mean_absolute_error: 8.4807e-04 - val_loss: 2.5789e-06 - val_mean_absolute_error: 0.0013\n",
            "Epoch 1456/4000\n",
            "61245/61245 [==============================] - 1s 20us/sample - loss: 4.2089e-06 - mean_absolute_error: 0.0017 - val_loss: 1.2737e-05 - val_mean_absolute_error: 0.0034\n",
            "Epoch 1457/4000\n",
            "61245/61245 [==============================] - 1s 20us/sample - loss: 2.8028e-05 - mean_absolute_error: 0.0050 - val_loss: 2.3695e-05 - val_mean_absolute_error: 0.0046\n",
            "Epoch 1458/4000\n",
            "61245/61245 [==============================] - 1s 20us/sample - loss: 9.8613e-06 - mean_absolute_error: 0.0026 - val_loss: 1.0647e-05 - val_mean_absolute_error: 0.0030\n",
            "Epoch 1459/4000\n",
            "61245/61245 [==============================] - 1s 20us/sample - loss: 5.0017e-06 - mean_absolute_error: 0.0018 - val_loss: 9.0533e-06 - val_mean_absolute_error: 0.0027\n",
            "Epoch 1460/4000\n",
            "61245/61245 [==============================] - 1s 20us/sample - loss: 6.6347e-06 - mean_absolute_error: 0.0022 - val_loss: 1.7360e-06 - val_mean_absolute_error: 9.4396e-04\n",
            "Epoch 1461/4000\n",
            "61245/61245 [==============================] - 1s 20us/sample - loss: 4.4248e-06 - mean_absolute_error: 0.0018 - val_loss: 8.5423e-06 - val_mean_absolute_error: 0.0027\n",
            "Epoch 1462/4000\n",
            "61245/61245 [==============================] - 1s 20us/sample - loss: 8.1102e-06 - mean_absolute_error: 0.0026 - val_loss: 1.7222e-06 - val_mean_absolute_error: 9.6262e-04\n",
            "Epoch 1463/4000\n",
            "61245/61245 [==============================] - 1s 20us/sample - loss: 2.8754e-06 - mean_absolute_error: 0.0013 - val_loss: 7.6665e-06 - val_mean_absolute_error: 0.0025\n",
            "Epoch 1464/4000\n",
            "61245/61245 [==============================] - 1s 20us/sample - loss: 6.3024e-06 - mean_absolute_error: 0.0022 - val_loss: 1.6960e-06 - val_mean_absolute_error: 9.7674e-04\n",
            "Epoch 1465/4000\n",
            "61245/61245 [==============================] - 1s 20us/sample - loss: 1.5974e-06 - mean_absolute_error: 9.1541e-04 - val_loss: 2.7716e-06 - val_mean_absolute_error: 0.0014\n",
            "Epoch 1466/4000\n",
            "61245/61245 [==============================] - 1s 20us/sample - loss: 4.1499e-06 - mean_absolute_error: 0.0018 - val_loss: 8.3068e-06 - val_mean_absolute_error: 0.0026\n",
            "Epoch 1467/4000\n",
            "61245/61245 [==============================] - 1s 20us/sample - loss: 1.2493e-05 - mean_absolute_error: 0.0033 - val_loss: 1.4427e-05 - val_mean_absolute_error: 0.0036\n",
            "Epoch 1468/4000\n",
            "61245/61245 [==============================] - 1s 20us/sample - loss: 6.9062e-06 - mean_absolute_error: 0.0021 - val_loss: 3.3787e-06 - val_mean_absolute_error: 0.0015\n",
            "Epoch 1469/4000\n",
            "61245/61245 [==============================] - 1s 20us/sample - loss: 7.0779e-06 - mean_absolute_error: 0.0024 - val_loss: 9.8192e-06 - val_mean_absolute_error: 0.0029\n",
            "Epoch 1470/4000\n",
            "61245/61245 [==============================] - 1s 20us/sample - loss: 8.3113e-06 - mean_absolute_error: 0.0026 - val_loss: 3.1975e-06 - val_mean_absolute_error: 0.0015\n",
            "Epoch 1471/4000\n",
            "50000/61245 [=======================>......] - ETA: 0s - loss: 1.9576e-06 - mean_absolute_error: 0.0010"
          ],
          "name": "stdout"
        }
      ]
    },
    {
      "cell_type": "code",
      "metadata": {
        "colab_type": "code",
        "id": "ftXhCTAUeYqa",
        "colab": {}
      },
      "source": [
        "model.evaluate(x,y,batch_size,use_multiprocessing=True)"
      ],
      "execution_count": 0,
      "outputs": []
    },
    {
      "cell_type": "code",
      "metadata": {
        "colab_type": "code",
        "id": "gdkgAzNGqiTW",
        "colab": {}
      },
      "source": [
        "model.compile(tf.keras.optimizers.Adam(0.0001),\"mse\",[\"mae\"])"
      ],
      "execution_count": 0,
      "outputs": []
    },
    {
      "cell_type": "code",
      "metadata": {
        "colab_type": "code",
        "id": "nQbIPoLEqiTa",
        "colab": {}
      },
      "source": [
        "model.fit(train_x,train_y,batch_size,3000, validation_data=[test_x,test_y])"
      ],
      "execution_count": 0,
      "outputs": []
    },
    {
      "cell_type": "code",
      "metadata": {
        "colab_type": "code",
        "id": "UVaHkiycqiTm",
        "colab": {}
      },
      "source": [
        "model.evaluate(x,y,batch_size,use_multiprocessing=True)"
      ],
      "execution_count": 0,
      "outputs": []
    },
    {
      "cell_type": "code",
      "metadata": {
        "colab_type": "code",
        "id": "iI2wt0AiQNtn",
        "colab": {}
      },
      "source": [
        "model.compile(tf.keras.optimizers.Adam(0.00001),\"mse\",[\"mae\"])"
      ],
      "execution_count": 0,
      "outputs": []
    },
    {
      "cell_type": "code",
      "metadata": {
        "colab_type": "code",
        "id": "BUrSYQ3bQNtz",
        "colab": {}
      },
      "source": [
        "model.fit(train_x,train_y,batch_size,3000, validation_data=[test_x,test_y])"
      ],
      "execution_count": 0,
      "outputs": []
    },
    {
      "cell_type": "code",
      "metadata": {
        "id": "ICh2i7EG3vOa",
        "colab_type": "code",
        "colab": {}
      },
      "source": [
        "import matplotlib.pyplot as plt\n",
        "\n",
        "pred = model.predict(x,3000)\n",
        "\n",
        "# y = y[0-1]\n",
        "# pred = pred[1::]\n",
        "\n",
        "# print(((pred-y)**2).mean())\n",
        "y3 = y[-100::]\n",
        "y4 = pred[-100::]\n",
        "# print(((y4-y3)**2).mean())\n",
        "\n",
        "\n",
        "plt.plot(y3)\n",
        "plt.plot(y4)\n",
        "plt.title('accuracy')\n",
        "plt.ylabel('test')\n",
        "plt.show()\n",
        "  \n",
        "plt.plot(y4)\n",
        "plt.title('accuracy')\n",
        "plt.ylabel('test')\n",
        "plt.show()\n",
        "\n",
        "plt.plot(y3)\n",
        "plt.title('accuracy')\n",
        "plt.ylabel('test')\n",
        "plt.show()\n",
        "7.61011205413085e-10"
      ],
      "execution_count": 0,
      "outputs": []
    },
    {
      "cell_type": "code",
      "metadata": {
        "colab_type": "code",
        "id": "m33Y6joBLZb5",
        "colab": {}
      },
      "source": [
        "ud = []\n",
        "pre_ud = []\n",
        "# pre_ud2 = []\n",
        "\n",
        "for i in range(1,len(y)):\n",
        "  ud.extend(np.where(y[i]>y[i-1] ,\"buy\",\"sell\"))\n",
        "  pre_ud.extend(np.where(pred[i]>y[i-1],\"buy\",\"sell\"))\n",
        "#   pre_ud2.extend(np.where(pred[i]>pred[i-1],\"buy\",\"sell\"))\n",
        "\n",
        "\n",
        "# cp = cp[0:-1]\n",
        "print(sklearn.metrics.accuracy_score(ud,pre_ud))\n",
        "\n",
        "cpp = np.asanyarray(df[[\"Open\"]])\n",
        "ud = ud[-1900::]\n",
        "pre_ud = pre_ud[-1900::]\n",
        "# pre_ud2 = pre_ud2[-1900::]\n",
        "cpp = cpp[-1900::]\n",
        "pre_ud2 = pre_ud\n",
        "print(sklearn.metrics.accuracy_score(ud,pre_ud2))"
      ],
      "execution_count": 0,
      "outputs": []
    },
    {
      "cell_type": "code",
      "metadata": {
        "id": "B39wKinZAxvD",
        "colab_type": "code",
        "colab": {}
      },
      "source": [
        "np.mean(ud==pre_ud)"
      ],
      "execution_count": 0,
      "outputs": []
    },
    {
      "cell_type": "code",
      "metadata": {
        "colab_type": "code",
        "id": "hH6XlBe5LT7X",
        "colab": {}
      },
      "source": [
        "# pips = 100000\n",
        "pips = 1000\n",
        "pip = []\n",
        "trade = []\n",
        "buy = 0\n",
        "sell = 0\n",
        "clear = 0\n",
        "close = \"False\"\n",
        "tp = 10000\n",
        "loscut = -20\n",
        "\n",
        "spread = 0.01\n",
        "\n",
        "# pre_ud = ud\n",
        "pre_ud = pre_ud2\n",
        "\n",
        "for i in range(0,len(pre_ud)):\n",
        "    if len(trade) == 0:\n",
        "        if pre_ud[i] == \"buy\":\n",
        "          sell = np.float(cpp[i]) - spread\n",
        "          trade.append(\"buy\")\n",
        "        if ud == \"sell\":\n",
        "          buy = np.float(cpp[i]) + spread\n",
        "          trade.append(\"sell\")\n",
        "    \n",
        "    else:\n",
        "        if pre_ud[i] == \"buy\" and trade[-1] == \"buy\":\n",
        "            clear = np.float(cpp[i])\n",
        "            Pip = (sell - clear)*pips\n",
        "            if Pip < loscut and close == \"False\":\n",
        "#                 print(Pip)\n",
        "                Pip = loscut\n",
        "                close = \"True\"\n",
        "                pip.append(Pip)\n",
        "            elif Pip > tp and close == \"False\":\n",
        "                Pip = tp\n",
        "                close = \"True\"\n",
        "                pip.append(Pip)\n",
        "            trade.append(\"buy\")\n",
        "        \n",
        "        elif pre_ud[i] == \"buy\" and trade[-1] == \"sell\":\n",
        "            if close == \"False\":\n",
        "                clear = np.float(cpp[i])\n",
        "                Pip = (clear - buy)*pips\n",
        "                if Pip < loscut:\n",
        "                    Pip = loscut\n",
        "                pip.append(Pip)\n",
        "            else:\n",
        "                close = \"False\"\n",
        "            buy = 0\n",
        "            sell = clear - spread\n",
        "            trade.append(\"buy\")\n",
        "\n",
        "        elif pre_ud[i] == \"sell\" and trade[-1] == \"sell\":\n",
        "            clear = np.float(cpp[i])\n",
        "            Pip = (clear - buy)*pips\n",
        "            if Pip < loscut and close == \"False\":\n",
        "                Pip = loscut\n",
        "                close = \"True\"\n",
        "                pip.append(Pip)\n",
        "            elif Pip > tp and close == \"False\":\n",
        "                Pip = tp\n",
        "                close = \"True\"\n",
        "                pip.append(Pip)\n",
        "            trade.append(\"sell\")\n",
        "\n",
        "        elif pre_ud[i] == \"sell\" and trade[-1] == \"buy\":\n",
        "            if close == \"False\":\n",
        "                clear = np.float(cpp[i])\n",
        "                Pip = (sell - clear)*pips\n",
        "                if Pip < loscut:\n",
        "                    Pip = loscut\n",
        "                pip.append(Pip)\n",
        "            else:\n",
        "                close = \"False\"\n",
        "            sell = 0\n",
        "            buy = clear  + spread\n",
        "            trade.append(\"sell\")\n",
        "\n",
        "\n",
        "\n",
        "\n",
        "print(\"pip の合計 : \",sum(pip))\n",
        "print(\"trade回数 = \",len(pip))\n",
        "print(\"max pip = \",max(pip))\n",
        "\n",
        "print(\"\")\n",
        "print(\"総利益 : \", (sum(pip)/100)*10000)\n",
        "print(\"\")\n",
        "\n",
        "print(\"accuracy : \",np.mean(np.asanyarray(pip)>=0))\n",
        "\n",
        "print(\"\")\n",
        "print(\"\")\n",
        "print(\"                      利益 ヒストグラム\")\n",
        "print(\"\")\n",
        "print(\"\")\n",
        "plt.hist(pip,50)\n",
        "plt.title('accuracy')\n",
        "plt.ylabel('test')\n",
        "plt.show()"
      ],
      "execution_count": 0,
      "outputs": []
    },
    {
      "cell_type": "code",
      "metadata": {
        "id": "H-BYyOg3Z534",
        "colab_type": "code",
        "colab": {}
      },
      "source": [
        "# pips = 100000\n",
        "pips = 1000\n",
        "pip = []\n",
        "trade = []\n",
        "buy = 0\n",
        "sell = 0\n",
        "clear = 0\n",
        "spread = 0.002\n",
        "loscut = 10\n",
        "\n",
        "# pre_ud = ud\n",
        "pre_ud2 = pre_ud\n",
        "\n",
        "for i in range(0,len(pre_ud)):\n",
        "    if len(trade) == 0:\n",
        "        if pre_ud[i] == \"buy\" and  pre_ud2[i] == \"buy\":\n",
        "          buy = np.float(cpp[i]) - spread\n",
        "          trade.append(\"buy\")\n",
        "        if pre_ud[i] == \"sell\" and  pre_ud2[i] == \"sell\":\n",
        "          sell = np.float(cpp[i])+ spread\n",
        "          trade.append(\"sell\")\n",
        "    \n",
        "    else:\n",
        "      if pre_ud[i] == \"buy\" and pre_ud2[i] == \"buy\":\n",
        "        \n",
        "        if trade[-1] == \"buy\":\n",
        "          trade.append(\"buy\")\n",
        "        elif trade[-1] == \"sell\":\n",
        "          clear = np.float(cpp[i])\n",
        "          Pip = (sell - clear)*pips\n",
        "          if Pip < -loscut:\n",
        "            Pip = -loscut\n",
        "#           Pip += -7\n",
        "          pip.append(Pip)\n",
        "          buy = clear + spread\n",
        "          sell = 0\n",
        "          trade.append(\"buy\")\n",
        "      elif pre_ud[i] == \"sell\" and pre_ud2[i] == \"sell\":\n",
        "        if trade[-1] == \"sell\":      \n",
        "          trade.append(\"sell\")\n",
        "        else:\n",
        "          clear = np.float(cpp[i])\n",
        "          \n",
        "          Pip = (clear - buy)*pips\n",
        "          if Pip < -loscut:\n",
        "            Pip = -loscut\n",
        "#           Pip += -7\n",
        "          pip.append(Pip)\n",
        "          sell = clear - spread\n",
        "          buy = 0\n",
        "          trade.append(\"sell\")\n",
        "          \n",
        "print(\"pip の合計 : \",sum(pip))\n",
        "print(\"trade回数 = \",len(pip))\n",
        "print(\"max pip = \",max(pip))\n",
        "\n",
        "print(\"\")\n",
        "print(\"総利益 : \", (sum(pip)/100)*10000)\n",
        "print(\"\")\n",
        "\n",
        "print(\"accuracy : \",np.mean(np.asanyarray(pip)>=0))\n",
        "\n",
        "print(\"\")\n",
        "print(\"\")\n",
        "print(\"                      利益 ヒストグラム\")\n",
        "print(\"\")\n",
        "print(\"\")\n",
        "plt.hist(pip,100)\n",
        "plt.title('accuracy')\n",
        "plt.ylabel('test')\n",
        "plt.show()"
      ],
      "execution_count": 0,
      "outputs": []
    },
    {
      "cell_type": "code",
      "metadata": {
        "colab_type": "code",
        "id": "qnu4oD1-S66p",
        "colab": {}
      },
      "source": [
        "model.save(\"wma.hdf5\")"
      ],
      "execution_count": 0,
      "outputs": []
    },
    {
      "cell_type": "code",
      "metadata": {
        "id": "8fiP6MR8scPg",
        "colab_type": "code",
        "colab": {}
      },
      "source": [
        "model = tf.keras.models.load_model(\"wma.hdf5\")"
      ],
      "execution_count": 0,
      "outputs": []
    },
    {
      "cell_type": "code",
      "metadata": {
        "id": "q-J-1IA_Dq7G",
        "colab_type": "code",
        "colab": {}
      },
      "source": [
        "for layer in model.layers:\n",
        "    if layer == model.layers[-1]:\n",
        "      pass\n",
        "    else:\n",
        "      layer.trainable = False"
      ],
      "execution_count": 0,
      "outputs": []
    }
  ]
}