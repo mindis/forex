{
 "cells": [
  {
   "cell_type": "code",
   "execution_count": null,
   "metadata": {},
   "outputs": [],
   "source": [
    "\"\"\"\n",
    "Gan ・・・・・ use Close price\n",
    "\"\"\""
   ]
  },
  {
   "cell_type": "code",
   "execution_count": 3,
   "metadata": {},
   "outputs": [],
   "source": [
    "import schedule\n",
    "import time\n",
    "# from job import job\n",
    "from job3 import job\n",
    "import pandas as pd\n",
    "import datetime\n",
    "import numpy as np\n",
    "import rpy2\n",
    "from sklearn.preprocessing import MinMaxScaler\n",
    "import tensorflow as tf\n",
    "from DWX_ZeroMQ_Connector_v2_0_1_RC8 import DWX_ZeroMQ_Connector\n",
    "\n",
    "%load_ext rpy2.ipython"
   ]
  },
  {
   "cell_type": "code",
   "execution_count": null,
   "metadata": {},
   "outputs": [],
   "source": [
    "%%R\n",
    "library(tidyverse)\n",
    "library(quantmod)\n",
    "# file_path <- \"C:\\\\Users\\\\komoo\\\\AppData\\\\Roaming\\\\MetaQuotes\\\\Terminal\\\\A0BA7E3FF12928487EFBA3BA88FE6F94\\\\MQL4\\\\Files\\\\Export_History\\\\AUDUSD\\\\AUDUSD_M15.csv\"\n",
    "# file_path <- \"C:\\\\Users\\\\komoo\\\\AppData\\\\Roaming\\\\MetaQuotes\\\\Terminal\\\\A0BA7E3FF12928487EFBA3BA88FE6F94\\\\MQL4\\\\Files\\\\Export_History\\\\EURUSD\\\\EURUSD_M1.csv\"\n",
    "# file_path <- \"C:\\\\Users\\\\komoo\\\\AppData\\\\Roaming\\\\MetaQuotes\\\\Terminal\\\\A0BA7E3FF12928487EFBA3BA88FE6F94\\\\MQL4\\\\Files\\\\Export_History\\\\EURJPY\\\\EURJPY_M1.csv\"\n",
    "# file_path <- \"C:\\\\Users\\\\komoo\\\\AppData\\\\Roaming\\\\MetaQuotes\\\\Terminal\\\\A0BA7E3FF12928487EFBA3BA88FE6F94\\\\MQL4\\\\Files\\\\Export_History\\\\USDJPY\\\\USDJPY_M15.csv\"\n",
    "file_path <- \"C:\\\\Users\\\\komoo\\\\AppData\\\\Roaming\\\\MetaQuotes\\\\Terminal\\\\A0BA7E3FF12928487EFBA3BA88FE6F94\\\\MQL4\\\\Files\\\\Export_History\\\\GBPJPY\\\\GBPJPY_M5.csv\"\n",
    "\n",
    "load_csv <- function(){\n",
    "  dat <- read_csv(file_path) %>% mutate(close=(High+Low+Close+Close)/4,wma=EMA(close,4),wma2=EMA(close,20), wma3=EMA(close,10),rsi=RSI(wma2,2)) %>% filter(!is.na(wma2)) %>% write_csv(\"audpred.csv\")\n",
    "}"
   ]
  },
  {
   "cell_type": "code",
   "execution_count": null,
   "metadata": {},
   "outputs": [],
   "source": [
    "model1 = tf.keras.models.load_model(\"Close.hdf5\")"
   ]
  },
  {
   "cell_type": "code",
   "execution_count": null,
   "metadata": {},
   "outputs": [],
   "source": [
    "def load_csv():\n",
    "    %R dat <- read_csv(file_path) %>% mutate(wma = WMA(Close,2)) %>% filter(!is.na(wma)) #%>% mutate(wma = SMA(wma,2)) %>% filter(!is.na(wma))\n",
    "#     %R dat <- read_csv(file_path) %>% mutate(rsi = RSI(Close,70),rsi=EMA(rsi,4)) %>% filter(!is.na(rsi))\n",
    "#     %R st <- TTR::stoch(dat$Close,60,2,2,maType=\"WMA\") %>% as_tibble() %>% mutate(Open=dat$Open,rsi=dat$rsi) %>% filter(!is.na(slowD))\n",
    "    %R write_csv(dat,\"audpred.csv\")"
   ]
  },
  {
   "cell_type": "code",
   "execution_count": null,
   "metadata": {},
   "outputs": [],
   "source": [
    "file_path = \"C:\\\\Users\\\\komoo\\\\AppData\\\\Roaming\\\\MetaQuotes\\\\Terminal\\\\A0BA7E3FF12928487EFBA3BA88FE6F94\\\\MQL4\\\\Files\\\\Export_History\\\\GBPJPY\\\\USDJPY_M5.csv\"\n",
    "def trade_run(lot_size=0.01):\n",
    "    date2 = datetime.datetime.now()\n",
    "    print(date2)\n",
    "    a = True\n",
    "    while a == True:\n",
    "        try:\n",
    "            time.sleep(1.01)\n",
    "            load_csv()\n",
    "            df = pd.read_csv(\"audpred.csv\")\n",
    "            x = df[[\"Close\"]]\n",
    "            a = False\n",
    "        except:\n",
    "            pass\n",
    "\n",
    "    fit = MinMaxScaler().fit(x)\n",
    "    x = MinMaxScaler().fit_transform(x)\n",
    "    \n",
    "    x = x[-200::]\n",
    "#     predict_generator\n",
    "    gen = tf.keras.preprocessing.sequence.TimeseriesGenerator(x,x,16,stride=1, batch_size=6000)\n",
    "    pred1 = model1.predict_generator(gen)\n",
    "    \n",
    "    op = np.asanyarray(df[[\"Open\"]]).reshape((-1,1))\n",
    "    job(x,pred1,op, symbol=\"GBPJPY\",loscut=20,sl=100,tp=2000, lot_size=lot_size,use_pred=True)\n",
    "    date2 = datetime.datetime.now()\n",
    "    print(date2)"
   ]
  },
  {
   "cell_type": "code",
   "execution_count": null,
   "metadata": {},
   "outputs": [],
   "source": [
    "from IPython.display import clear_output\n",
    "\n",
    "def clear():\n",
    "    time.sleep(2.5)\n",
    "    clear_output()\n",
    "    \n",
    "def pip_clear():\n",
    "    _zmq = DWX_ZeroMQ_Connector()\n",
    "    _zmq._DWX_MTX_CLOSE_ALL_TRADES_()\n",
    "    raise TypeError(\"時間です\")"
   ]
  },
  {
   "cell_type": "code",
   "execution_count": null,
   "metadata": {},
   "outputs": [],
   "source": [
    "trade_run()"
   ]
  },
  {
   "cell_type": "code",
   "execution_count": null,
   "metadata": {},
   "outputs": [],
   "source": [
    "# schedule.clear()\n",
    "# schedule.every().hour.at(\"00:00\").do(trade_run)\n",
    "# schedule.every().hour.at(\"00:05\").do(trade_run)\n",
    "# schedule.every().hour.at(\"00:10\").do(trade_run)\n",
    "# schedule.every().hour.at(\"00:15\").do(trade_run)\n",
    "# schedule.every().hour.at(\"00:20\").do(trade_run)\n",
    "# schedule.every().hour.at(\"00:25\").do(trade_run)\n",
    "# schedule.every().hour.at(\"00:30\").do(trade_run)\n",
    "# schedule.every().hour.at(\"00:35\").do(trade_run)\n",
    "# schedule.every().hour.at(\"00:40\").do(trade_run)\n",
    "# schedule.every().hour.at(\"00:45\").do(trade_run)\n",
    "# schedule.every().hour.at(\"00:50\").do(trade_run)\n",
    "# schedule.every().hour.at(\"00:55\").do(trade_run)\n",
    "schedule.every().minute.at(\":00\").do(trade_run)\n",
    "schedule.every().hour.at(\"00:01\").do(clear)\n",
    "# schedule.every().day.at(\"05:53\").do(pip_clear)\n",
    "while True:\n",
    "    schedule.run_pending()\n",
    "    time.sleep(1)"
   ]
  },
  {
   "cell_type": "code",
   "execution_count": null,
   "metadata": {},
   "outputs": [],
   "source": [
    "def run():\n",
    "    schedule.clear()\n",
    "    schedule.every().minute.at(\":00\").do(trade_run)\n",
    "    while True:\n",
    "      schedule.run_pending()\n",
    "      time.sleep(1)"
   ]
  },
  {
   "cell_type": "code",
   "execution_count": null,
   "metadata": {},
   "outputs": [],
   "source": [
    "schedule.every().monday.at(\"06:00\").do(run)\n",
    "while True:\n",
    "    schedule.run_pending()\n",
    "    time.sleep(1)"
   ]
  },
  {
   "cell_type": "code",
   "execution_count": null,
   "metadata": {},
   "outputs": [],
   "source": [
    "import calendar\n",
    "weekday = datetime.date.today().weekday()\n",
    "weekday_name = calendar.day_name[weekday]\n",
    "\n",
    "date2 = datetime.datetime.now()\n"
   ]
  },
  {
   "cell_type": "code",
   "execution_count": null,
   "metadata": {},
   "outputs": [],
   "source": [
    "load_csv()"
   ]
  },
  {
   "cell_type": "code",
   "execution_count": null,
   "metadata": {},
   "outputs": [],
   "source": [
    "x = df[[\"wma\"]]\n",
    "x = np.asanyarray(x)"
   ]
  },
  {
   "cell_type": "code",
   "execution_count": null,
   "metadata": {},
   "outputs": [],
   "source": [
    "s = np.append(x,x[-1])"
   ]
  }
 ],
 "metadata": {
  "kernelspec": {
   "display_name": "komo",
   "language": "python",
   "name": "komo"
  },
  "language_info": {
   "codemirror_mode": {
    "name": "ipython",
    "version": 3
   },
   "file_extension": ".py",
   "mimetype": "text/x-python",
   "name": "python",
   "nbconvert_exporter": "python",
   "pygments_lexer": "ipython3",
   "version": "3.7.3"
  }
 },
 "nbformat": 4,
 "nbformat_minor": 2
}
